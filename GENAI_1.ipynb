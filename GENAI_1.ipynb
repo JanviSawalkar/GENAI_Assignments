{
  "nbformat": 4,
  "nbformat_minor": 0,
  "metadata": {
    "colab": {
      "provenance": []
    },
    "kernelspec": {
      "name": "python3",
      "display_name": "Python 3"
    },
    "language_info": {
      "name": "python"
    }
  },
  "cells": [
    {
      "cell_type": "code",
      "execution_count": null,
      "metadata": {
        "id": "i6k2rI5BeNyx"
      },
      "outputs": [],
      "source": [
        "import random\n",
        "import string\n"
      ]
    },
    {
      "cell_type": "code",
      "source": [
        "def build_markov_chain(text, n=2):\n",
        "    markov_chain = {}\n",
        "\n",
        "    words = text.split()  # Split text into words\n",
        "\n",
        "    # Loop over the words in the text to create n-grams\n",
        "    for i in range(len(words) - n):\n",
        "        # Get the key (a tuple of n-1 words) and the next word\n",
        "        key = tuple(words[i:i + n - 1])\n",
        "        next_word = words[i + n - 1]\n",
        "\n",
        "        # Update the Markov chain with the new word\n",
        "        if key not in markov_chain:\n",
        "            markov_chain[key] = []\n",
        "        markov_chain[key].append(next_word)\n",
        "\n",
        "    return markov_chain\n"
      ],
      "metadata": {
        "id": "AT1TRtQBesue"
      },
      "execution_count": null,
      "outputs": []
    },
    {
      "cell_type": "code",
      "source": [
        "def generate_text(markov_chain, length=50, n=2):\n",
        "    # Start with a random key\n",
        "    start_key = random.choice(list(markov_chain.keys()))\n",
        "    result = list(start_key)\n",
        "\n",
        "    # Generate the text by repeatedly choosing the next word\n",
        "    for _ in range(length - n + 1):\n",
        "        current_key = tuple(result[-(n-1):])  # Get the last n-1 words as the key\n",
        "\n",
        "        if current_key not in markov_chain:\n",
        "            break  # If no further words can be generated, stop\n",
        "\n",
        "        next_word = random.choice(markov_chain[current_key])  # Pick a random word\n",
        "        result.append(next_word)  # Append the word to the result\n",
        "\n",
        "    return ' '.join(result)\n"
      ],
      "metadata": {
        "id": "Q-4Pmu72fDSV"
      },
      "execution_count": null,
      "outputs": []
    },
    {
      "cell_type": "code",
      "source": [
        "if __name__ == \"__main__\":\n",
        "    # Example text (can be a larger text)\n",
        "    text = \"\"\"In the beginning, there was the word. The word was with God, and the word was God. He was in the beginning with God. All things were made through him, and without him, not anything was made that was made.\"\"\"\n",
        "\n",
        "    # Build the Markov chain model\n",
        "    markov_chain = build_markov_chain(text, n=2)\n",
        "\n",
        "    # Generate new text\n",
        "    generated_text = generate_text(markov_chain, length=50, n=2)\n",
        "\n",
        "    print(generated_text)\n"
      ],
      "metadata": {
        "colab": {
          "base_uri": "https://localhost:8080/"
        },
        "id": "AqAd9xDOfGIc",
        "outputId": "143f5a27-2f5a-490e-99f2-edce4c2f00ef"
      },
      "execution_count": null,
      "outputs": [
        {
          "output_type": "stream",
          "name": "stdout",
          "text": [
            "The word was with God, and the beginning with God. All things were made that was the beginning with God. He was in the word was the beginning, there was made through him, not anything was in the word. The word was in the word was in the beginning, there\n"
          ]
        }
      ]
    }
  ]
}