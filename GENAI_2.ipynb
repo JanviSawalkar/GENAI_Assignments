{
  "nbformat": 4,
  "nbformat_minor": 0,
  "metadata": {
    "colab": {
      "provenance": []
    },
    "kernelspec": {
      "name": "python3",
      "display_name": "Python 3"
    },
    "language_info": {
      "name": "python"
    }
  },
  "cells": [
    {
      "cell_type": "code",
      "execution_count": null,
      "metadata": {
        "colab": {
          "base_uri": "https://localhost:8080/"
        },
        "id": "z6v1-QNjiVX8",
        "outputId": "0b694599-8310-424c-d448-e8eab3cd2ae6"
      },
      "outputs": [
        {
          "output_type": "stream",
          "name": "stdout",
          "text": [
            "Collecting groq\n",
            "  Downloading groq-0.18.0-py3-none-any.whl.metadata (14 kB)\n",
            "Requirement already satisfied: anyio<5,>=3.5.0 in /usr/local/lib/python3.11/dist-packages (from groq) (3.7.1)\n",
            "Requirement already satisfied: distro<2,>=1.7.0 in /usr/local/lib/python3.11/dist-packages (from groq) (1.9.0)\n",
            "Requirement already satisfied: httpx<1,>=0.23.0 in /usr/local/lib/python3.11/dist-packages (from groq) (0.28.1)\n",
            "Requirement already satisfied: pydantic<3,>=1.9.0 in /usr/local/lib/python3.11/dist-packages (from groq) (2.10.6)\n",
            "Requirement already satisfied: sniffio in /usr/local/lib/python3.11/dist-packages (from groq) (1.3.1)\n",
            "Requirement already satisfied: typing-extensions<5,>=4.10 in /usr/local/lib/python3.11/dist-packages (from groq) (4.12.2)\n",
            "Requirement already satisfied: idna>=2.8 in /usr/local/lib/python3.11/dist-packages (from anyio<5,>=3.5.0->groq) (3.10)\n",
            "Requirement already satisfied: certifi in /usr/local/lib/python3.11/dist-packages (from httpx<1,>=0.23.0->groq) (2025.1.31)\n",
            "Requirement already satisfied: httpcore==1.* in /usr/local/lib/python3.11/dist-packages (from httpx<1,>=0.23.0->groq) (1.0.7)\n",
            "Requirement already satisfied: h11<0.15,>=0.13 in /usr/local/lib/python3.11/dist-packages (from httpcore==1.*->httpx<1,>=0.23.0->groq) (0.14.0)\n",
            "Requirement already satisfied: annotated-types>=0.6.0 in /usr/local/lib/python3.11/dist-packages (from pydantic<3,>=1.9.0->groq) (0.7.0)\n",
            "Requirement already satisfied: pydantic-core==2.27.2 in /usr/local/lib/python3.11/dist-packages (from pydantic<3,>=1.9.0->groq) (2.27.2)\n",
            "Downloading groq-0.18.0-py3-none-any.whl (121 kB)\n",
            "\u001b[?25l   \u001b[90m━━━━━━━━━━━━━━━━━━━━━━━━━━━━━━━━━━━━━━━━\u001b[0m \u001b[32m0.0/121.9 kB\u001b[0m \u001b[31m?\u001b[0m eta \u001b[36m-:--:--\u001b[0m\r\u001b[2K   \u001b[91m━━━━━━━━━━━━━━━━━━━━━━━━━━━━━━━━━━━━\u001b[0m\u001b[91m╸\u001b[0m\u001b[90m━━━\u001b[0m \u001b[32m112.6/121.9 kB\u001b[0m \u001b[31m4.8 MB/s\u001b[0m eta \u001b[36m0:00:01\u001b[0m\r\u001b[2K   \u001b[90m━━━━━━━━━━━━━━━━━━━━━━━━━━━━━━━━━━━━━━━━\u001b[0m \u001b[32m121.9/121.9 kB\u001b[0m \u001b[31m2.4 MB/s\u001b[0m eta \u001b[36m0:00:00\u001b[0m\n",
            "\u001b[?25hInstalling collected packages: groq\n",
            "Successfully installed groq-0.18.0\n"
          ]
        }
      ],
      "source": [
        "!pip install groq\n",
        "from google.colab import userdata\n",
        "from groq import Groq\n",
        "import json\n",
        "import re"
      ]
    },
    {
      "cell_type": "code",
      "source": [
        "def get_completion(prompt):\n",
        "    try:\n",
        "            client = Groq(api_key=\"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\")\n",
        "            # Generate the completion using the OpenAI client\n",
        "            chat_completion = client.chat.completions.create(\n",
        "                messages=[\n",
        "                    {\"role\": \"user\", \"content\": prompt}\n",
        "                ],\n",
        "                model=\"llama3-70b-8192\",\n",
        "                temperature=0.1  # Adjust randomness\n",
        "            )\n",
        "            response = chat_completion.choices[0].message.content\n",
        "            return response\n",
        "    except Exception as e:\n",
        "        return \"An error occurred while generating the response.\""
      ],
      "metadata": {
        "id": "WTtOzzWciorZ"
      },
      "execution_count": null,
      "outputs": []
    },
    {
      "cell_type": "code",
      "source": [
        "import json\n",
        "\n",
        "# 1. Interview Approach Prompt\n",
        "interview_prompt = \"\"\"\n",
        "You are interviewing a candidate for a Python developer role.\n",
        "Ask a series of progressively challenging questions to assess their understanding of Python,\n",
        "starting with basic syntax and gradually increasing to advanced topics like decorators,\n",
        "multithreading, and design patterns. Provide explanations for incorrect answers.\n",
        "\"\"\"\n",
        "result = get_completion(interview_prompt)\n",
        "print(json.dumps({\"interview_result\": result}, indent=4), \"\\n\")\n",
        "\n",
        "# 2. Chain of Thought Prompt\n",
        "cot_prompt = \"\"\"\n",
        "Solve the following problem step by step:\n",
        "Given a list of numbers, return the sum of all even numbers.\n",
        "First, identify even numbers, then sum them up, and finally return the result.\n",
        "Show reasoning at each step.\n",
        "\"\"\"\n",
        "result = get_completion(cot_prompt)\n",
        "print(json.dumps({\"chain_of_thought_result\": result}, indent=4), \"\\n\")\n",
        "\n",
        "# 3. Tree of Thought Prompt\n",
        "tot_prompt = \"\"\"\n",
        "Think through multiple possible approaches to solving this problem before selecting the best one:\n",
        "Given a string, find the longest palindrome that can be formed by rearranging its letters.\n",
        "Consider brute-force, dynamic programming, and greedy methods.\n",
        "Evaluate trade-offs before implementing a solution.\n",
        "\"\"\"\n",
        "result = get_completion(tot_prompt)\n",
        "print(json.dumps({\"tree_of_thought_result\": result}, indent=4), \"\\n\")\n",
        "\n",
        "# 4. Zero-Shot Prompt\n",
        "zero_shot_prompt = \"\"\"\n",
        "Classify the following text as Positive, Negative, or Neutral:\n",
        "\"I had an amazing experience at the restaurant!\"\n",
        "\"\"\"\n",
        "result = get_completion(zero_shot_prompt)\n",
        "print(json.dumps({\"zero_shot_result\": result}, indent=4), \"\\n\")\n",
        "\n",
        "# 5. Few-Shot Prompt\n",
        "few_shot_prompt = \"\"\"\n",
        "Classify the sentiment of the following sentences:\n",
        "Example 1: \"The product is excellent!\" → Positive\n",
        "Example 2: \"The service was terrible.\" → Negative\n",
        "Example 3: \"It was an average experience.\" → Neutral\n",
        "Now classify: \"I absolutely love this phone!\"\n",
        "\"\"\"\n",
        "result = get_completion(few_shot_prompt)\n",
        "print(json.dumps({\"few_shot_result\": result}, indent=4), \"\\n\")\n"
      ],
      "metadata": {
        "colab": {
          "base_uri": "https://localhost:8080/"
        },
        "id": "wx7MShUNiV8G",
        "outputId": "6aef0614-ea14-4033-f1fa-666088196dbf"
      },
      "execution_count": null,
      "outputs": [
        {
          "output_type": "stream",
          "name": "stdout",
          "text": [
            "{\n",
            "    \"interview_result\": \"Let's conduct a mock interview for a Python developer role. I'll ask a series of questions to assess the candidate's understanding of Python, starting with basic syntax and gradually increasing to advanced topics.\\n\\n**Basic Syntax (Easy)**\\n\\n1. What is the output of the following code: `x = 5; y = \\\"5\\\"; print(x == y)`?\\n\\nCandidate's answer: `True`\\n\\nExplanation: The correct answer is `False`. The `==` operator checks for equality, but `x` is an integer and `y` is a string, so they are not equal.\\n\\n2. How do you concatenate two strings in Python?\\n\\nCandidate's answer: `str1 + str2`\\n\\nExplanation: That's correct! In Python, you can concatenate strings using the `+` operator.\\n\\n**Data Structures (Medium)**\\n\\n1. What is the difference between a list and a tuple in Python?\\n\\nCandidate's answer: A list is mutable, and a tuple is immutable.\\n\\nExplanation: That's correct! Lists are mutable, meaning you can modify their elements after creation, while tuples are immutable, meaning their elements cannot be changed after creation.\\n\\n2. How do you create a dictionary with default values in Python?\\n\\nCandidate's answer: Using the `defaultdict` from the `collections` module.\\n\\nExplanation: That's correct! The `defaultdict` class from the `collections` module allows you to create a dictionary with default values.\\n\\n**Object-Oriented Programming (Medium-Hard)**\\n\\n1. What is the purpose of the `__init__` method in a Python class?\\n\\nCandidate's answer: It's used to initialize the object's attributes.\\n\\nExplanation: That's correct! The `__init__` method is a special method in Python classes that is called when an object is created, and it's used to initialize the object's attributes.\\n\\n2. How do you implement inheritance in Python?\\n\\nCandidate's answer: By using the `class Child(Parent):` syntax.\\n\\nExplanation: That's correct! In Python, you can implement inheritance by defining a child class that inherits from a parent class using the `class Child(Parent):` syntax.\\n\\n**Advanced Topics (Hard)**\\n\\n1. What is a decorator in Python, and how is it used?\\n\\nCandidate's answer: A decorator is a function that takes another function as an argument and returns a new function that \\\"wraps\\\" the original function. It's used to add additional functionality to a function without modifying its source code.\\n\\nExplanation: That's correct! Decorators are a powerful feature in Python that allow you to add additional functionality to a function without modifying its source code.\\n\\n2. How do you implement multithreading in Python?\\n\\nCandidate's answer: Using the `threading` module and creating a `Thread` object.\\n\\nExplanation: That's correct! In Python, you can implement multithreading using the `threading` module and creating a `Thread` object.\\n\\n3. What is the Singleton design pattern, and how is it implemented in Python?\\n\\nCandidate's answer: The Singleton pattern ensures that only one instance of a class is created, and it's implemented using a class that returns the same instance every time it's instantiated.\\n\\nExplanation: That's correct! The Singleton pattern is a design pattern that ensures that only one instance of a class is created, and it's implemented in Python using a class that returns the same instance every time it's instantiated.\\n\\n**Additional Questions**\\n\\n1. How do you handle errors and exceptions in Python?\\n\\nCandidate's answer: Using try-except blocks and raising custom exceptions.\\n\\nExplanation: That's correct! In Python, you can handle errors and exceptions using try-except blocks and raising custom exceptions.\\n\\n2. What is the difference between `is` and `==` in Python?\\n\\nCandidate's answer: `is` checks for identity, while `==` checks for equality.\\n\\nExplanation: That's correct! In Python, `is` checks whether two objects are the same (i.e., have the same identity), while `==` checks whether two objects have the same value (i.e., are equal).\\n\\nAssessment:\\nThe candidate demonstrated a good understanding of Python syntax, data structures, and object-oriented programming concepts. They also showed a good grasp of advanced topics like decorators, multithreading, and design patterns. However, there were a few areas where they could improve, such as error handling and exception raising. Overall, I would consider this candidate a strong contender for the Python developer role.\"\n",
            "} \n",
            "\n",
            "{\n",
            "    \"chain_of_thought_result\": \"Let's solve the problem step by step:\\n\\n**Step 1: Identify the problem and the input**\\n\\nThe problem is to return the sum of all even numbers in a given list of numbers.\\n\\nLet's assume the input is a list of numbers, for example: `[1, 2, 3, 4, 5, 6, 7, 8, 9, 10]`\\n\\n**Step 2: Identify even numbers**\\n\\nTo identify even numbers, we can use a simple rule: a number is even if it is divisible by 2.\\n\\nWe can use a conditional statement to check if a number is even:\\n\\n`if number % 2 == 0:  # if the remainder of dividing the number by 2 is 0, then it's even`\\n\\nLet's apply this rule to each number in the input list:\\n\\n`[1, 2, 3, 4, 5, 6, 7, 8, 9, 10]`\\n\\n* 1: not even (1 % 2 != 0)\\n* 2: even (2 % 2 == 0)\\n* 3: not even (3 % 2 != 0)\\n* 4: even (4 % 2 == 0)\\n* 5: not even (5 % 2 != 0)\\n* 6: even (6 % 2 == 0)\\n* 7: not even (7 % 2 != 0)\\n* 8: even (8 % 2 == 0)\\n* 9: not even (9 % 2 != 0)\\n* 10: even (10 % 2 == 0)\\n\\nThe even numbers in the list are: `[2, 4, 6, 8, 10]`\\n\\n**Step 3: Sum up the even numbers**\\n\\nNow that we have identified the even numbers, we can sum them up:\\n\\n`sum = 2 + 4 + 6 + 8 + 10 = 30`\\n\\n**Step 4: Return the result**\\n\\nThe final result is the sum of all even numbers: `30`\\n\\nHere is the Python code that implements these steps:\\n```\\ndef sum_even_numbers(numbers):\\n    even_numbers = [number for number in numbers if number % 2 == 0]\\n    return sum(even_numbers)\\n\\nnumbers = [1, 2, 3, 4, 5, 6, 7, 8, 9, 10]\\nresult = sum_even_numbers(numbers)\\nprint(result)  # Output: 30\\n```\\nNote that this code uses a list comprehension to create a new list of even numbers, and then uses the built-in `sum` function to sum them up.\"\n",
            "} \n",
            "\n",
            "{\n",
            "    \"tree_of_thought_result\": \"Let's break down the problem and explore different approaches to solve it:\\n\\n**Problem Statement:**\\nGiven a string, find the longest palindrome that can be formed by rearranging its letters.\\n\\n**Approach 1: Brute Force**\\n\\n* Generate all possible permutations of the input string.\\n* Check each permutation to see if it is a palindrome.\\n* Keep track of the longest palindrome found.\\n\\nPros:\\n\\n* Simple to implement\\n* No need to worry about optimization\\n\\nCons:\\n\\n* Time complexity: O(n!), where n is the length of the input string. This is impractical for large strings.\\n* Space complexity: O(n!), as we need to store all permutations.\\n\\n**Approach 2: Dynamic Programming**\\n\\n* Create a 2D table to store the longest palindrome length for each substring of the input string.\\n* Fill the table using a bottom-up approach, starting from substrings of length 1 and moving up to the full string.\\n* Use the table to construct the longest palindrome.\\n\\nPros:\\n\\n* Time complexity: O(n^2), which is much better than brute force.\\n* Space complexity: O(n^2), which is still relatively high.\\n\\nCons:\\n\\n* The table can be large for large strings.\\n* The construction of the longest palindrome from the table can be complex.\\n\\n**Approach 3: Greedy**\\n\\n* Count the frequency of each character in the input string.\\n* Create a palindrome by pairing characters with the same frequency, leaving one character in the middle if the total length is odd.\\n* If there are multiple characters with the same frequency, choose the one with the highest frequency.\\n\\nPros:\\n\\n* Time complexity: O(n), where n is the length of the input string.\\n* Space complexity: O(n), as we only need to store the frequency counts.\\n\\nCons:\\n\\n* This approach assumes that the longest palindrome can be formed by pairing characters with the same frequency, which may not always be the case.\\n\\n**Approach 4: Hybrid**\\n\\n* Use a combination of approaches 2 and 3.\\n* Use dynamic programming to find the longest palindrome length for each substring of the input string.\\n* Use the frequency counts to construct the longest palindrome.\\n\\nPros:\\n\\n* Time complexity: O(n^2), which is better than brute force.\\n* Space complexity: O(n^2), which is still relatively high.\\n* Combines the strengths of both approaches.\\n\\nCons:\\n\\n* The implementation can be complex.\\n\\n**Evaluation and Trade-offs:**\\n\\n* Time complexity: Approach 3 (Greedy) has the best time complexity, but it may not always produce the optimal solution.\\n* Space complexity: Approach 3 (Greedy) has the best space complexity, but it may not always produce the optimal solution.\\n* Implementation complexity: Approach 1 (Brute Force) is the simplest to implement, but it is impractical for large strings.\\n\\n**Best Approach:**\\n\\nBased on the evaluation, I would recommend Approach 3 (Greedy) as the best solution. It has the best time and space complexity, and it is relatively simple to implement. While it may not always produce the optimal solution, it is a good trade-off between efficiency and simplicity.\\n\\nHowever, if the input string is very large, and the optimal solution is required, Approach 4 (Hybrid) may be a better choice. It combines the strengths of both approaches, but it is more complex to implement.\"\n",
            "} \n",
            "\n",
            "{\n",
            "    \"zero_shot_result\": \"I would classify this text as Positive. The use of the word \\\"amazing\\\" clearly conveys a strong positive sentiment, indicating that the speaker had a highly enjoyable experience at the restaurant.\"\n",
            "} \n",
            "\n",
            "{\n",
            "    \"few_shot_result\": \"The sentiment of the sentence \\\"I absolutely love this phone!\\\" is \\u2192 Positive\"\n",
            "} \n",
            "\n"
          ]
        }
      ]
    },
    {
      "cell_type": "code",
      "source": [],
      "metadata": {
        "id": "jFfmZ9xbjVJ4"
      },
      "execution_count": null,
      "outputs": []
    }
  ]
}