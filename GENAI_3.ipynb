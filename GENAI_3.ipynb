{
  "nbformat": 4,
  "nbformat_minor": 0,
  "metadata": {
    "colab": {
      "provenance": []
    },
    "kernelspec": {
      "name": "python3",
      "display_name": "Python 3"
    },
    "language_info": {
      "name": "python"
    }
  },
  "cells": [
    {
      "cell_type": "code",
      "execution_count": 1,
      "metadata": {
        "colab": {
          "base_uri": "https://localhost:8080/"
        },
        "id": "xx5YBNObmnlr",
        "outputId": "a2fadc05-bbc5-4190-f9c5-d8a0f238f9fa"
      },
      "outputs": [
        {
          "output_type": "stream",
          "name": "stdout",
          "text": [
            "Collecting groq\n",
            "  Downloading groq-0.18.0-py3-none-any.whl.metadata (14 kB)\n",
            "Requirement already satisfied: anyio<5,>=3.5.0 in /usr/local/lib/python3.11/dist-packages (from groq) (3.7.1)\n",
            "Requirement already satisfied: distro<2,>=1.7.0 in /usr/local/lib/python3.11/dist-packages (from groq) (1.9.0)\n",
            "Requirement already satisfied: httpx<1,>=0.23.0 in /usr/local/lib/python3.11/dist-packages (from groq) (0.28.1)\n",
            "Requirement already satisfied: pydantic<3,>=1.9.0 in /usr/local/lib/python3.11/dist-packages (from groq) (2.10.6)\n",
            "Requirement already satisfied: sniffio in /usr/local/lib/python3.11/dist-packages (from groq) (1.3.1)\n",
            "Requirement already satisfied: typing-extensions<5,>=4.10 in /usr/local/lib/python3.11/dist-packages (from groq) (4.12.2)\n",
            "Requirement already satisfied: idna>=2.8 in /usr/local/lib/python3.11/dist-packages (from anyio<5,>=3.5.0->groq) (3.10)\n",
            "Requirement already satisfied: certifi in /usr/local/lib/python3.11/dist-packages (from httpx<1,>=0.23.0->groq) (2025.1.31)\n",
            "Requirement already satisfied: httpcore==1.* in /usr/local/lib/python3.11/dist-packages (from httpx<1,>=0.23.0->groq) (1.0.7)\n",
            "Requirement already satisfied: h11<0.15,>=0.13 in /usr/local/lib/python3.11/dist-packages (from httpcore==1.*->httpx<1,>=0.23.0->groq) (0.14.0)\n",
            "Requirement already satisfied: annotated-types>=0.6.0 in /usr/local/lib/python3.11/dist-packages (from pydantic<3,>=1.9.0->groq) (0.7.0)\n",
            "Requirement already satisfied: pydantic-core==2.27.2 in /usr/local/lib/python3.11/dist-packages (from pydantic<3,>=1.9.0->groq) (2.27.2)\n",
            "Downloading groq-0.18.0-py3-none-any.whl (121 kB)\n",
            "\u001b[2K   \u001b[90m━━━━━━━━━━━━━━━━━━━━━━━━━━━━━━━━━━━━━━━━\u001b[0m \u001b[32m121.9/121.9 kB\u001b[0m \u001b[31m2.2 MB/s\u001b[0m eta \u001b[36m0:00:00\u001b[0m\n",
            "\u001b[?25hInstalling collected packages: groq\n",
            "Successfully installed groq-0.18.0\n"
          ]
        }
      ],
      "source": [
        "!pip install groq\n",
        "from google.colab import userdata\n",
        "from groq import Groq\n",
        "import json\n",
        "import re"
      ]
    },
    {
      "cell_type": "code",
      "source": [
        "def get_completion(prompt):\n",
        "    try:\n",
        "            client = Groq(api_key=\"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\")\n",
        "            # Generate the completion using the OpenAI client\n",
        "            chat_completion = client.chat.completions.create(\n",
        "                messages=[\n",
        "                    {\"role\": \"user\", \"content\": prompt}\n",
        "                ],\n",
        "                model=\"llama3-70b-8192\",\n",
        "                temperature=0.5  # Adjust randomness\n",
        "            )\n",
        "            response = chat_completion.choices[0].message.content\n",
        "            return response\n",
        "    except Exception as e:\n",
        "        return \"An error occurred while generating the response.\""
      ],
      "metadata": {
        "id": "Nqhz3sYamshg"
      },
      "execution_count": 2,
      "outputs": []
    },
    {
      "cell_type": "code",
      "source": [
        "\n",
        "creative_story_prompt = \"\"\"\n",
        "Generate a captivating short story with the following elements:\n",
        "- Genre: Fantasy\n",
        "- Setting: A mystical forest where time flows differently\n",
        "- Main Character: A young adventurer who stumbles upon an ancient artifact\n",
        "- Conflict: The artifact grants immense power, but at a great cost\n",
        "- Tone: Mysterious and adventurous\n",
        "\n",
        "Narrate the story with vivid descriptions, engaging dialogues, and an unexpected twist at the end.\n",
        "\"\"\"\n",
        "\n",
        "result = get_completion(creative_story_prompt)\n",
        "\n",
        "# Print JSON formatted output\n",
        "print(json.dumps({\"creative_story_result\": result}, indent=4), \"\\n\")\n"
      ],
      "metadata": {
        "colab": {
          "base_uri": "https://localhost:8080/"
        },
        "id": "qZA3Bx_gmsUq",
        "outputId": "73c117eb-a860-42bb-ead0-bfc11e4fbcae"
      },
      "execution_count": 3,
      "outputs": [
        {
          "output_type": "stream",
          "name": "stdout",
          "text": [
            "{\n",
            "    \"creative_story_result\": \"**The Forest of Eternal Twilight**\\n\\nDeep within the heart of the mystical forest, where twilight reigned supreme, and time itself was a fluid concept, a young adventurer named Lyra stumbled upon an ancient artifact. The air was alive with the whispers of ancient secrets, and the trees seemed to lean in, as if to listen to her every thought. Lyra's curiosity had led her to this place, driven by the whispers of a long-lost legend.\\n\\nAs she pushed through the veil of mist, a faint glow beckoned her towards a glade. In the center, a pedestal of moss-covered stone cradled a small, ornate box. The box seemed to hum with an otherworldly energy, drawing Lyra in like a moth to flame. She reached out, and as her fingers brushed against the box, the lid creaked open, revealing a radiant crystal nestled in a bed of velvet.\\n\\n\\\"Ah, the Celestial Key,\\\" a soft, ethereal voice whispered, as if carried on the wind. \\\"You have freed me, Lyra. Together, we shall unlock the secrets of the universe.\\\"\\n\\nLyra's eyes widened as the crystal began to glow brighter, imbuing her with an intoxicating sense of power. She felt the threads of fate weaving together, and the fabric of reality bending to her will. The forest itself seemed to respond to her presence, as vines wrapped around her arms, and the trees leaned in, as if to acknowledge her newfound authority.\\n\\nBut as she basked in the glory of her newfound power, a faint whisper of warning echoed in her mind. \\\"At what cost, Lyra? What price will you pay for this power?\\\"\\n\\nLyra laughed, her voice echoing through the forest. \\\"I'll pay any price for this power! I'll shape the world to my will!\\\"\\n\\nThe forest seemed to darken, as if the shadows themselves were listening to her boast. Suddenly, the air grew colder, and the trees seemed to twist, their bark wrinkling like ancient parchment. A faint, ghostly figure materialized before her, its eyes burning with an ancient wisdom.\\n\\n\\\"You have unleashed the power of the Celestial Key, Lyra,\\\" the figure whispered, its voice like autumn leaves rustling in the wind. \\\"But you have forgotten the price of power. The forest will exact its toll, and the cost will be your memories.\\\"\\n\\nLyra's eyes widened as the forest began to fade around her, the trees disappearing into the mist. The crystal's glow faltered, and the power that had coursed through her veins began to recede.\\n\\n\\\"No!\\\" Lyra cried, as her memories began to unravel, like threads pulled from a tapestry. \\\"I won't let you take them from me!\\\"\\n\\nThe ghostly figure vanished, leaving Lyra alone in the fading light of the forest. As the mist closed in, she stumbled forward, desperate to reclaim her memories.\\n\\nBut it was too late. The forest had claimed its toll, and Lyra stumbled out into the bright sunlight, her memories gone, lost in the labyrinthine paths of the mystical forest.\\n\\nAs she stumbled through the world, a stranger in her own skin, Lyra realized that the true power of the Celestial Key lay not in its magic, but in the price it exacted. The forest had taught her a lesson: that power, no matter how great, was worthless without the memories that made us who we are.\\n\\nAnd so, Lyra set out to reclaim her memories, driven by the whispers of the forest, and the haunting echoes of her own forgotten past. For in the mystical forest, time flowed differently, and the secrets of the past waited patiently, hidden in the shadows of the trees.\"\n",
            "} \n",
            "\n"
          ]
        }
      ]
    },
    {
      "cell_type": "code",
      "source": [],
      "metadata": {
        "id": "E3ty36J-m8Nh"
      },
      "execution_count": 3,
      "outputs": []
    }
  ]
}